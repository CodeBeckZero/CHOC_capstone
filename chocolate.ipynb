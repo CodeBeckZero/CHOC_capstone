{
 "cells": [
  {
   "cell_type": "code",
   "execution_count": 1,
   "metadata": {},
   "outputs": [
    {
     "ename": "ModuleNotFoundError",
     "evalue": "No module named 'pandas'",
     "output_type": "error",
     "traceback": [
      "\u001b[0;31m---------------------------------------------------------------------------\u001b[0m",
      "\u001b[0;31mModuleNotFoundError\u001b[0m                       Traceback (most recent call last)",
      "\u001b[0;32m<ipython-input-1-17c47bdfd7e8>\u001b[0m in \u001b[0;36m<module>\u001b[0;34m\u001b[0m\n\u001b[1;32m      1\u001b[0m \u001b[0;32mfrom\u001b[0m \u001b[0mbs4\u001b[0m \u001b[0;32mimport\u001b[0m \u001b[0mBeautifulSoup\u001b[0m\u001b[0;34m\u001b[0m\u001b[0;34m\u001b[0m\u001b[0m\n\u001b[1;32m      2\u001b[0m \u001b[0;32mimport\u001b[0m \u001b[0mrequests\u001b[0m\u001b[0;34m\u001b[0m\u001b[0;34m\u001b[0m\u001b[0m\n\u001b[0;32m----> 3\u001b[0;31m \u001b[0;32mimport\u001b[0m \u001b[0mpandas\u001b[0m \u001b[0;32mas\u001b[0m \u001b[0mpd\u001b[0m\u001b[0;34m\u001b[0m\u001b[0;34m\u001b[0m\u001b[0m\n\u001b[0m\u001b[1;32m      4\u001b[0m \u001b[0;32mimport\u001b[0m \u001b[0mmatplotlib\u001b[0m\u001b[0;34m.\u001b[0m\u001b[0mpyplot\u001b[0m \u001b[0;32mas\u001b[0m \u001b[0mplt\u001b[0m\u001b[0;34m\u001b[0m\u001b[0;34m\u001b[0m\u001b[0m\n\u001b[1;32m      5\u001b[0m \u001b[0;32mimport\u001b[0m \u001b[0mnumpy\u001b[0m \u001b[0;32mas\u001b[0m \u001b[0mnp\u001b[0m\u001b[0;34m\u001b[0m\u001b[0;34m\u001b[0m\u001b[0m\n",
      "\u001b[0;31mModuleNotFoundError\u001b[0m: No module named 'pandas'"
     ]
    }
   ],
   "source": [
    "from bs4 import BeautifulSoup\n",
    "import requests\n",
    "import pandas as pd\n",
    "import matplotlib.pyplot as plt\n",
    "import numpy as np\n",
    "\n",
    "website = requests.get(\"https://s3.amazonaws.com/codecademy-content/courses/beautifulsoup/cacao/index.html\")\n",
    "\n",
    "soup = BeautifulSoup(website.content, 'html.parser')\n",
    "\n",
    "\n",
    "ratings = []\n",
    "Company = []\n",
    "Cocoa = []\n",
    "\n",
    "raw_rating_list = soup.find_all(attrs={\"class\": \"Rating\"})\n",
    "raw_company_list = soup.find_all(attrs={\"class\": \"Company\"})\n",
    "raw_cocoa_list = soup.find_all(attrs={\"class\": \"CocoaPercent\"})\n",
    "\n",
    "for item in range(1, len(raw_rating_list)):\n",
    "  ratings.append(float(raw_rating_list[item].get_text()))\n",
    "\n",
    "for item in range(1, len(raw_company_list)):\n",
    "  Company.append((raw_company_list[item].get_text()))\n",
    "\n",
    "for item in range(1, len(raw_cocoa_list)):\n",
    "  Cocoa.append(int(float((raw_cocoa_list[item].get_text()).strip(\"%\"))))\n",
    "\n",
    "\n",
    "df = pd.DataFrame(list(zip(Company, ratings, Cocoa)), columns=(['Company', 'Rating', 'CocoaPercentage']))\n",
    "\n",
    "print(df.head())\n",
    "\n",
    "plt.scatter(df.CocoaPercentage, df.Rating)\n",
    "z = np.polyfit(df.CocoaPercentage, df.Rating, 1)\n",
    "line_function = np.poly1d(z)\n",
    "plt.plot(df.CocoaPercentage, line_function(df.CocoaPercentage), \"r--\")\n",
    "plt.show()"
   ]
  }
 ],
 "metadata": {
  "kernelspec": {
   "display_name": "Python 3",
   "language": "python",
   "name": "python3"
  },
  "language_info": {
   "codemirror_mode": {
    "name": "ipython",
    "version": 3
   },
   "file_extension": ".py",
   "mimetype": "text/x-python",
   "name": "python",
   "nbconvert_exporter": "python",
   "pygments_lexer": "ipython3",
   "version": "3.8.5"
  }
 },
 "nbformat": 4,
 "nbformat_minor": 4
}
